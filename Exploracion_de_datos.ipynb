{
  "nbformat": 4,
  "nbformat_minor": 0,
  "metadata": {
    "colab": {
      "provenance": [],
      "authorship_tag": "ABX9TyNYThxYnKfNZJb/k6bRdvzd",
      "include_colab_link": true
    },
    "kernelspec": {
      "name": "python3",
      "display_name": "Python 3"
    },
    "language_info": {
      "name": "python"
    }
  },
  "cells": [
    {
      "cell_type": "markdown",
      "metadata": {
        "id": "view-in-github",
        "colab_type": "text"
      },
      "source": [
        "<a href=\"https://colab.research.google.com/github/Sweetmoon11/Machine-learning-for-spinal-diagnostic/blob/main/Exploracion_de_datos.ipynb\" target=\"_parent\"><img src=\"https://colab.research.google.com/assets/colab-badge.svg\" alt=\"Open In Colab\"/></a>"
      ]
    },
    {
      "cell_type": "markdown",
      "source": [
        "IMPORTACION DE DATOS"
      ],
      "metadata": {
        "id": "D9opxO3iv9pB"
      }
    },
    {
      "cell_type": "code",
      "execution_count": null,
      "metadata": {
        "id": "jRFvoxujv1ch"
      },
      "outputs": [],
      "source": [
        "import warnings, requests, zipfile, io\n",
        "warnings.simplefilter('ignore')\n",
        "import pandas as pd\n",
        "from scipy.io import arff"
      ]
    },
    {
      "cell_type": "code",
      "source": [
        "f_zip = 'http://archive.ics.uci.edu/ml/machine-learning-databases/00212/vertebral_column_data.zip'\n",
        "r = requests.get(f_zip, stream=True)\n",
        "Vertebral_zip = zipfile.ZipFile(io.BytesIO(r.content))\n",
        "Vertebral_zip.extractall()"
      ],
      "metadata": {
        "id": "XjZFOpsMwEgO"
      },
      "execution_count": null,
      "outputs": []
    },
    {
      "cell_type": "code",
      "source": [
        "data = arff.loadarff('column_2C_weka.arff')\n",
        "df = pd.DataFrame(data[0])"
      ],
      "metadata": {
        "id": "47swVPtRwGVN"
      },
      "execution_count": null,
      "outputs": []
    },
    {
      "cell_type": "markdown",
      "source": [
        "Revision de datos importados"
      ],
      "metadata": {
        "id": "XRgwi2Z6wOQg"
      }
    },
    {
      "cell_type": "code",
      "source": [
        "df.shape"
      ],
      "metadata": {
        "id": "fP73tDQswS5d"
      },
      "execution_count": null,
      "outputs": []
    },
    {
      "cell_type": "code",
      "source": [
        "df.columns"
      ],
      "metadata": {
        "id": "GN29WlBhwU2d"
      },
      "execution_count": null,
      "outputs": []
    },
    {
      "cell_type": "code",
      "source": [
        "df.dtypes"
      ],
      "metadata": {
        "id": "PrpSOq9AwZ79"
      },
      "execution_count": null,
      "outputs": []
    },
    {
      "cell_type": "markdown",
      "source": [
        "Aqui se va a revisar la estadistica de la primera columna"
      ],
      "metadata": {
        "id": "s7KYaaJLweE8"
      }
    },
    {
      "cell_type": "code",
      "source": [
        "df['pelvic_incidence'].describe()"
      ],
      "metadata": {
        "id": "fOkgLqc3wiiJ"
      },
      "execution_count": null,
      "outputs": []
    },
    {
      "cell_type": "markdown",
      "source": [
        "Se revisa tambien la columna llamada lumbar_lordosis_angle"
      ],
      "metadata": {
        "id": "5juPfYJfxd_D"
      }
    },
    {
      "cell_type": "code",
      "source": [
        "df['lumbar_lordosis_angle'].describe()"
      ],
      "metadata": {
        "id": "YW_TKKX3xl8L"
      },
      "execution_count": null,
      "outputs": []
    },
    {
      "cell_type": "markdown",
      "source": [
        "Correspondiente a esto podriamos verificar varias cosas miremos una matriz de correlacion"
      ],
      "metadata": {
        "id": "_Xp0N-dXx_b7"
      }
    },
    {
      "cell_type": "code",
      "source": [
        "df[['pelvic_incidence', 'lumbar_lordosis_angle']].corr()"
      ],
      "metadata": {
        "id": "Y2MrBc6ByMSv"
      },
      "execution_count": null,
      "outputs": []
    },
    {
      "cell_type": "markdown",
      "source": [
        "esto puede ser util para lo siguiente para reducir dimensionalidad\n"
      ],
      "metadata": {
        "id": "GmaFEK8AyZk3"
      }
    },
    {
      "cell_type": "markdown",
      "source": [
        "igualmente vamos a verlo de manera grafica en otros ambitos"
      ],
      "metadata": {
        "id": "cBV-v6BqyjDD"
      }
    },
    {
      "cell_type": "markdown",
      "source": [
        " representa una variable numérica del DataFrame\n"
      ],
      "metadata": {
        "id": "Necv0DaezUuS"
      }
    },
    {
      "cell_type": "code",
      "source": [
        "import matplotlib.pyplot as plt\n",
        "%matplotlib inline\n",
        "df.plot()"
      ],
      "metadata": {
        "id": "CjfxGA2oyqVS"
      },
      "execution_count": null,
      "outputs": []
    },
    {
      "cell_type": "markdown",
      "source": [
        "Podemos tener en cuenta lo siguiente\n",
        "- Las curvas de pelvic_incidence, lumbar_lordosis_angle y sacral_slope parecen moverse juntas en varios tramos.\n",
        "- Esto refuerza la correlación positiva que ya se habia indicado (0.717 entre las dos primeras).\n"
      ],
      "metadata": {
        "id": "FMWVb3DRz721"
      }
    },
    {
      "cell_type": "markdown",
      "source": [
        "lo que vemos aca es la parte grafica referente a la relacion que hablabamos anteriormente\n"
      ],
      "metadata": {
        "id": "Oe5bK0TTzZhh"
      }
    },
    {
      "cell_type": "code",
      "source": [
        "import seaborn as sns\n",
        "sns.scatterplot(x=df['pelvic_incidence'], y=df['lumbar_lordosis_angle'])\n",
        "plt.title('Relación entre Pelvic Incidence y Lumbar Lordosis Angle')\n",
        "plt.show()"
      ],
      "metadata": {
        "id": "Yflqvr-uy8zk"
      },
      "execution_count": null,
      "outputs": []
    },
    {
      "cell_type": "markdown",
      "source": [
        "\n",
        "podriamos tener en cuenta lo siguiente\n",
        "\n",
        "- Los puntos están bastante agrupados en una diagonal ascendente, lo que sugiere que la relación es consistente.\n",
        "- No parece haber muchos valores extremos o dispersos, aunque podrías verificarlo con un análisis de outliers.\n"
      ],
      "metadata": {
        "id": "4J3YqdSW0U0O"
      }
    },
    {
      "cell_type": "code",
      "source": [
        "df.plot(kind='density',subplots=True,layout=(4,2),figsize=(12,12),sharex=False)\n",
        "plt.show()"
      ],
      "metadata": {
        "id": "-PXOArzL0rIU"
      },
      "execution_count": null,
      "outputs": []
    },
    {
      "cell_type": "markdown",
      "source": [
        "Aqui se puede ver unos graficos de densidad se pueden entender varias cosas\n",
        "\n",
        "- Todas las variables tienen una sola “montaña” o pico, lo que indica que los datos están concentrados en torno a un valor central.\n",
        "- Esto es bueno para modelos estadísticos, ya que evita complicaciones por distribuciones multimodales.\n"
      ],
      "metadata": {
        "id": "7E6lBBYo1SVO"
      }
    },
    {
      "cell_type": "code",
      "source": [
        "df['degree_spondylolisthesis'].plot.density()"
      ],
      "metadata": {
        "id": "1UHOvE6r1buh"
      },
      "execution_count": null,
      "outputs": []
    },
    {
      "cell_type": "markdown",
      "source": [
        "con lo siguiente podriamos indicar lo siguiente\n",
        "- La forma de la curva sugiere una asimetría positiva (sesgo a la derecha).\n",
        "- Esto significa que hay pocos pacientes con grados muy altos de espondilolistesis, mientras que la mayoría tiene valores bajos o normales.\n"
      ],
      "metadata": {
        "id": "bDvkNoJx17NR"
      }
    },
    {
      "cell_type": "code",
      "source": [
        "df['degree_spondylolisthesis'].plot.hist()"
      ],
      "metadata": {
        "id": "DnSHQR7h2Ey9"
      },
      "execution_count": null,
      "outputs": []
    },
    {
      "cell_type": "markdown",
      "source": [
        "Aquí, la asimetría positiva (sesgo a la derecha) y la baja frecuencia de valores altos sugieren que esos puntos extremos no siguen el patrón general.\n"
      ],
      "metadata": {
        "id": "Lpxl58Ku2f0d"
      }
    },
    {
      "cell_type": "markdown",
      "source": [
        "verificamos la distribucion"
      ],
      "metadata": {
        "id": "hW2X_w9Z29v5"
      }
    },
    {
      "cell_type": "code",
      "source": [
        "df['class'].value_counts()"
      ],
      "metadata": {
        "id": "TpY5LsgU25WI"
      },
      "execution_count": null,
      "outputs": []
    },
    {
      "cell_type": "markdown",
      "source": [
        "Aqui para que intentar obtener mas daros se va a convertir la columna en un valor numerico"
      ],
      "metadata": {
        "id": "DjN7GdoO3FYV"
      }
    },
    {
      "cell_type": "code",
      "source": [
        "class_mapper = {b'Abnormal':1,b'Normal':0}\n",
        "df['class']=df['class'].replace(class_mapper)"
      ],
      "metadata": {
        "id": "LBofH_wj3TD_"
      },
      "execution_count": null,
      "outputs": []
    },
    {
      "cell_type": "code",
      "source": [
        "df.plot.scatter(y='degree_spondylolisthesis',x='class')"
      ],
      "metadata": {
        "id": "2Ss24qbq3tPT"
      },
      "execution_count": null,
      "outputs": []
    },
    {
      "cell_type": "markdown",
      "source": [
        "Ahora vamos a tratar con el uso de las celdas anterores determinar como se corresponden los valores de otras caracteristicas con el objetivo"
      ],
      "metadata": {
        "id": "WGHZp_MJ4tBL"
      }
    },
    {
      "cell_type": "code",
      "source": [
        "features = ['pelvic_incidence', 'pelvic_tilt', 'lumbar_lordosis_angle',\n",
        "            'sacral_slope', 'pelvic_radius', 'degree_spondylolisthesis']\n",
        "\n",
        "for feature in features:\n",
        "    plt.figure(figsize=(6, 4))\n",
        "    sns.boxplot(x='class', y=feature, data=df)\n",
        "    plt.title(f'{feature} vs class')\n",
        "    plt.show()"
      ],
      "metadata": {
        "id": "x7oQmCdu45Be"
      },
      "execution_count": null,
      "outputs": []
    },
    {
      "cell_type": "markdown",
      "source": [
        "Estas variables podrían ser predictoras fuertes en un modelo de clasificación."
      ],
      "metadata": {
        "id": "HuqQ2QWf473S"
      }
    },
    {
      "cell_type": "code",
      "source": [
        "df.groupby('class')[features].mean().T"
      ],
      "metadata": {
        "id": "iHPuXRhN4_C3"
      },
      "execution_count": null,
      "outputs": []
    },
    {
      "cell_type": "markdown",
      "source": [
        "tienen diferencias marcadas entre clases. Esto tambien puede ser predictoras para un modelo de clasificacion\n"
      ],
      "metadata": {
        "id": "wWgFuKHe5hMC"
      }
    },
    {
      "cell_type": "markdown",
      "source": [
        "Calcula la matriz de correlación entre todas las variables numéricas y ordena las correlaciones respecto a la clase.\n",
        "\n",
        "- Sirve para identificar qué variables están más relacionadas con el objetivo.\n",
        "- Las correlaciones cercanas a ±1 indican relaciones fuertes.\n",
        "- Puedes usar esto para seleccionar variables relevantes o detectar redundancia.\n"
      ],
      "metadata": {
        "id": "ZvKLlQME7ldc"
      }
    },
    {
      "cell_type": "code",
      "source": [
        "df.groupby('class').boxplot(fontsize=20,rot=90,figsize=(20,10),patch_artist=True)"
      ],
      "metadata": {
        "id": "XI3wyJWv6HPB"
      },
      "execution_count": null,
      "outputs": []
    },
    {
      "cell_type": "code",
      "source": [
        "corr_matrix = df.corr()\n",
        "corr_matrix[\"class\"].sort_values(ascending=False)"
      ],
      "metadata": {
        "id": "-Y9OZhgy6ppF"
      },
      "execution_count": null,
      "outputs": []
    },
    {
      "cell_type": "code",
      "source": [
        "pd.plotting.scatter_matrix(df,figsize=(12,12))\n",
        "plt.show()"
      ],
      "metadata": {
        "id": "4dmF7uQB6zYY"
      },
      "execution_count": null,
      "outputs": []
    },
    {
      "cell_type": "code",
      "source": [
        "# Plot figsize\n",
        "fig, ax = plt.subplots(figsize=(10, 10))\n",
        "# Generate Color Map\n",
        "# colormap = sns.diverging_palette(220, 10, as_cmap=True)\n",
        "colormap = sns.color_palette(\"BrBG\", 10)\n",
        "# Generate Heat Map, allow annotations and place floats in map\n",
        "sns.heatmap(corr_matrix, cmap=colormap, annot=True, fmt=\".2f\")\n",
        "#ax.set_yticklabels(column_names);\n",
        "plt.show()"
      ],
      "metadata": {
        "id": "0wn4nvqf6_jo"
      },
      "execution_count": null,
      "outputs": []
    }
  ]
}